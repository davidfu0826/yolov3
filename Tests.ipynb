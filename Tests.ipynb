{
 "cells": [
  {
   "cell_type": "code",
   "execution_count": 11,
   "id": "resident-berlin",
   "metadata": {},
   "outputs": [],
   "source": [
    "PATH_TO_TRAIN = \"../../Dataset/Oresundsbron/03_annotated_train_and_val/03_annotated_train_and_val/labels/train\"\n",
    "PATH_TO_VALID = \"../../Dataset/Oresundsbron/03_annotated_train_and_val/03_annotated_train_and_val/labels/val\""
   ]
  },
  {
   "cell_type": "code",
   "execution_count": 12,
   "id": "fiscal-queens",
   "metadata": {},
   "outputs": [],
   "source": [
    "import glob"
   ]
  },
  {
   "cell_type": "code",
   "execution_count": 13,
   "id": "human-marijuana",
   "metadata": {},
   "outputs": [],
   "source": [
    "txts = glob.glob(PATH_TO_TRAIN + \"/*.txt\")\n",
    "txts += glob.glob(PATH_TO_VALID + \"/*.txt\")\n",
    "\n",
    "classes = set()\n",
    "for txt in txts:\n",
    "    with open(txt, 'r') as f:\n",
    "        data = f.readlines()\n",
    "        \n",
    "        data = [row.split()[0] for row in data]\n",
    "        classes = classes.union(set(data))"
   ]
  },
  {
   "cell_type": "code",
   "execution_count": 14,
   "id": "combined-general",
   "metadata": {},
   "outputs": [
    {
     "data": {
      "text/plain": [
       "{'0', '1', '2', '3', '4'}"
      ]
     },
     "execution_count": 14,
     "metadata": {},
     "output_type": "execute_result"
    }
   ],
   "source": [
    "classes"
   ]
  },
  {
   "cell_type": "code",
   "execution_count": null,
   "id": "happy-longer",
   "metadata": {},
   "outputs": [],
   "source": []
  }
 ],
 "metadata": {
  "kernelspec": {
   "display_name": "Python 3",
   "language": "python",
   "name": "python3"
  },
  "language_info": {
   "codemirror_mode": {
    "name": "ipython",
    "version": 3
   },
   "file_extension": ".py",
   "mimetype": "text/x-python",
   "name": "python",
   "nbconvert_exporter": "python",
   "pygments_lexer": "ipython3",
   "version": "3.8.8"
  }
 },
 "nbformat": 4,
 "nbformat_minor": 5
}
