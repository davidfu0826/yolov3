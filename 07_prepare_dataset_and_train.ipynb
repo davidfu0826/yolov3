{
 "cells": [
  {
   "cell_type": "markdown",
   "id": "sonic-cattle",
   "metadata": {},
   "source": [
    "# How to prepare dataset for training\n",
    "\n",
    "1. Place this notebook in the yolov3 directory (after running following)\n",
    "    - ```git clone -b archive https://github.com/ultralytics/yolov3```\n",
    "2. Please enter in the next cell the paths to the training- and validation-images in your dataset \n",
    "3. Run entire notebook"
   ]
  },
  {
   "cell_type": "code",
   "execution_count": 1,
   "id": "f03a1752",
   "metadata": {},
   "outputs": [
    {
     "name": "stdout",
     "output_type": "stream",
     "text": [
      " Volume in drive C is SENOR0LUNLT0524\n",
      " Volume Serial Number is D2E4-FDEC\n",
      "\n",
      " Directory of C:\\Users\\SEFuDA\\OneDrive - Sony\\Documents\\Dataset\\Oresundsbron\\02_non_processed_additionalsamples\\02_non_processed_additionalsamples\n",
      "\n",
      "2021-04-25  16:03    <DIR>          .\n",
      "2021-04-25  16:03    <DIR>          ..\n",
      "2021-04-25  15:59    <DIR>          images\n",
      "2021-04-25  16:01    <DIR>          labels\n",
      "               0 File(s)              0 bytes\n",
      "               4 Dir(s)  283ÿ694ÿ907ÿ392 bytes free\n"
     ]
    }
   ],
   "source": [
    "!dir \"../../Dataset/Oresundsbron/02_non_processed_additionalsamples/02_non_processed_additionalsamples/\""
   ]
  },
  {
   "cell_type": "code",
   "execution_count": 2,
   "id": "rolled-interview",
   "metadata": {},
   "outputs": [],
   "source": [
    "# Pipeline 1\n",
    "PATHS_TO_TRAIN = [\n",
    "    \"../../Dataset/Oresundsbron/03_annotated_train_and_val/03_annotated_train_and_val/images/train\",\n",
    "    \"../../Dataset/Oresundsbron/02_non_processed_additionalsamples/02_non_processed_additionalsamples/images\",\n",
    "]\n",
    "PATH_TO_VALID = \"../../Dataset/Oresundsbron/03_annotated_train_and_val/03_annotated_train_and_val/images/val\"\n",
    "\n",
    "#PATH_TO_TRAIN = \"../../Dataset/Oresundsbron/OneDrive_1_08-04-2021/03_dataset_pipeline_1/02_top_image/images/train\"\n",
    "#PATH_TO_VALID = \"../../Dataset/Oresundsbron/OneDrive_1_08-04-2021/03_dataset_pipeline_1/02_top_image/images/val\""
   ]
  },
  {
   "cell_type": "markdown",
   "id": "forward-artwork",
   "metadata": {},
   "source": [
    "###  Put all image paths into a list"
   ]
  },
  {
   "cell_type": "code",
   "execution_count": 6,
   "id": "nervous-metro",
   "metadata": {},
   "outputs": [],
   "source": [
    "import os, glob\n",
    "valid_paths = glob.glob(PATH_TO_VALID + \"/*.jpg\")\n",
    "valid_imgs = [os.path.basename(img_path) for img_path in valid_paths]"
   ]
  },
  {
   "cell_type": "code",
   "execution_count": 7,
   "id": "secret-mapping",
   "metadata": {},
   "outputs": [],
   "source": [
    "train_paths = list()\n",
    "for path_to_train in PATHS_TO_TRAIN:\n",
    "    train_paths += [img_path for img_path in glob.glob(path_to_train + \"/*.jpg\") \\\n",
    "                   if os.path.basename(img_path) not in valid_imgs]\n",
    "train_imgs = [os.path.basename(train_path) for train_path in train_paths]"
   ]
  },
  {
   "cell_type": "code",
   "execution_count": 8,
   "id": "environmental-second",
   "metadata": {},
   "outputs": [],
   "source": [
    "intersections = set(train_imgs).intersection(set(valid_imgs))\n",
    "assert len(intersections) == 0 # Make sure no intersection between valid and train set"
   ]
  },
  {
   "cell_type": "markdown",
   "id": "numerous-placement",
   "metadata": {},
   "source": [
    "### Create dataset files compatible with ultralytics/yolov3"
   ]
  },
  {
   "cell_type": "code",
   "execution_count": 9,
   "id": "short-animation",
   "metadata": {},
   "outputs": [],
   "source": [
    "import os"
   ]
  },
  {
   "cell_type": "code",
   "execution_count": 10,
   "id": "changed-georgia",
   "metadata": {},
   "outputs": [],
   "source": [
    "data_file = \"\"\"\n",
    "classes=5\n",
    "train=data/oresund_train.txt\n",
    "valid=data/oresund_valid.txt\n",
    "names=data/oresund.names\n",
    "\"\"\"\n",
    "\n",
    "with open(\"data/oresundsbron.data\", 'w') as f:\n",
    "    f.write(data_file)"
   ]
  },
  {
   "cell_type": "code",
   "execution_count": 11,
   "id": "interesting-liabilities",
   "metadata": {},
   "outputs": [
    {
     "name": "stdout",
     "output_type": "stream",
     "text": [
      "Number of img files: 2961\n",
      "Number of txt files: 2860\n",
      "Number of img files: 204\n",
      "Number of txt files: 204\n"
     ]
    }
   ],
   "source": [
    "with open('data/oresund_train.txt', 'w') as f:\n",
    "    print(f\"Number of img files: {len(train_paths)}\")\n",
    "    num_txt = 0\n",
    "    for img_path in train_paths:\n",
    "\n",
    "        assert os.path.isfile(img_path)\n",
    "        txt_path = img_path.replace(\"images\", \"labels\").replace(\".jpg\", \".txt\")\n",
    "        if os.path.isfile(txt_path):\n",
    "            num_txt += 1\n",
    "\n",
    "        f.write(img_path + '\\n')\n",
    "\n",
    "    print(f\"Number of txt files: {num_txt}\")\n",
    "\n",
    "        \n",
    "with open('data/oresund_valid.txt', 'w') as f:\n",
    "    print(f\"Number of img files: {len(valid_paths)}\")\n",
    "    num_txt = 0\n",
    "    for img_path in valid_paths:\n",
    "        assert os.path.isfile(img_path)\n",
    "        txt_path = img_path.replace(\"images\", \"labels\").replace(\".jpg\", \".txt\")\n",
    "        if os.path.isfile(txt_path):\n",
    "            num_txt += 1\n",
    "                          \n",
    "        f.write(img_path + '\\n')\n",
    "print(f\"Number of txt files: {num_txt}\")\n",
    "        "
   ]
  },
  {
   "cell_type": "code",
   "execution_count": 12,
   "id": "cognitive-zimbabwe",
   "metadata": {},
   "outputs": [],
   "source": [
    "classes = [\n",
    "    \"Class_1\",\n",
    "    \"Class_2\",\n",
    "    \"Class_3\",\n",
    "    \"Class_4\",\n",
    "    \"Class_5_6\"\n",
    "]\n",
    "\n",
    "with open('data/oresund.names', 'w') as f:\n",
    "    for name in classes:\n",
    "        f.write(name + '\\n')"
   ]
  },
  {
   "cell_type": "markdown",
   "id": "existing-domestic",
   "metadata": {},
   "source": [
    "## Configure yolov3.cfg to match number of classes\n",
    "\n",
    "For each ```[yolo]``` layer,\n",
    "- Change ```classes=80``` to ```classes=num_classes```\n",
    "- In the ```[convolutional]``` layer right before, change ```filters=255``` to ```filters=(5+num_classes)*3```\n",
    "\n",
    "e.g.\n",
    "classes=num_classes"
   ]
  },
  {
   "cell_type": "markdown",
   "id": "italic-offer",
   "metadata": {},
   "source": [
    "# Start training\n",
    "\n",
    "Run the following command in the terminal to start training\n",
    "\n",
    "**NOTE:**\n",
    "You may need to manually download the weights 'yolov3.weights' and place it in the 'yolov3/weights' directory. Find the download link in the output logs from the cell."
   ]
  },
  {
   "cell_type": "code",
   "execution_count": 13,
   "id": "hydraulic-newton",
   "metadata": {},
   "outputs": [],
   "source": [
    "# python train.py --data data/oresundsbron.data --weight weights/yolov3.weights --cfg cfg/yolov3.cfg --batch-size 4\n",
    "\n",
    "# python train.py --data data/oresundsbron_top.data --weight weights/yolov3.weights --cfg cfg\\yolov3_5_classes.cfg --batch-size 4 --multi-scale"
   ]
  },
  {
   "cell_type": "markdown",
   "id": "outer-tactics",
   "metadata": {},
   "source": [
    "# Installing Apex (speed up training 2x)\n",
    "\n",
    "1. First make sure you are in the same conda environment as your project (e.g. $ conda activate \\<environment_name\\>)\n",
    "2. git clone https://github.com/NVIDIA/apex\n",
    "3. cd apex\n",
    "4. pip install -v --no-cache-dir ."
   ]
  },
  {
   "cell_type": "markdown",
   "id": "quick-midnight",
   "metadata": {},
   "source": [
    "# Verify no data leakage"
   ]
  },
  {
   "cell_type": "code",
   "execution_count": 15,
   "id": "b8ac3c02",
   "metadata": {},
   "outputs": [],
   "source": [
    "import os, glob"
   ]
  },
  {
   "cell_type": "code",
   "execution_count": 16,
   "id": "arranged-conducting",
   "metadata": {},
   "outputs": [],
   "source": []
  },
  {
   "cell_type": "code",
   "execution_count": 19,
   "id": "swiss-capability",
   "metadata": {},
   "outputs": [],
   "source": [
    "train_imgs = [os.path.basename(img_path) for img_path in train_paths]\n",
    "valid_imgs = [os.path.basename(img_path) for img_path in valid_paths]"
   ]
  },
  {
   "cell_type": "code",
   "execution_count": 21,
   "id": "compatible-algorithm",
   "metadata": {},
   "outputs": [
    {
     "name": "stdout",
     "output_type": "stream",
     "text": [
      "2961\n",
      "204\n",
      "0\n"
     ]
    }
   ],
   "source": [
    "print(len(set(train_paths)))\n",
    "print(len(set(valid_imgs)))\n",
    "print(len(set(valid_imgs).intersection(train_imgs)))"
   ]
  },
  {
   "cell_type": "code",
   "execution_count": null,
   "id": "refined-closer",
   "metadata": {},
   "outputs": [],
   "source": []
  }
 ],
 "metadata": {
  "kernelspec": {
   "display_name": "Python 3",
   "language": "python",
   "name": "python3"
  },
  "language_info": {
   "codemirror_mode": {
    "name": "ipython",
    "version": 3
   },
   "file_extension": ".py",
   "mimetype": "text/x-python",
   "name": "python",
   "nbconvert_exporter": "python",
   "pygments_lexer": "ipython3",
   "version": "3.8.8"
  }
 },
 "nbformat": 4,
 "nbformat_minor": 5
}
