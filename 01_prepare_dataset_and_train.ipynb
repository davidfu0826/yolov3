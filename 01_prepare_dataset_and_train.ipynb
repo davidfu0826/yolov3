{
 "cells": [
  {
   "cell_type": "markdown",
   "id": "sonic-cattle",
   "metadata": {},
   "source": [
    "# How to prepare dataset for training\n",
    "\n",
    "1. Place this notebook in the yolov3 directory (after running following)\n",
    "    - ```git clone -b archive https://github.com/ultralytics/yolov3```\n",
    "2. Please enter in the next cell the paths to the training- and validation-images in your dataset \n",
    "3. Run entire notebook"
   ]
  },
  {
   "cell_type": "code",
   "execution_count": 37,
   "id": "rolled-interview",
   "metadata": {},
   "outputs": [],
   "source": [
    "PATH_TO_TRAIN = \"../../Dataset/Oresundsbron/03_annotated_train_and_val/03_annotated_train_and_val/images/train\"\n",
    "PATH_TO_VALID = \"../../Dataset/Oresundsbron/03_annotated_train_and_val/03_annotated_train_and_val/images/val\""
   ]
  },
  {
   "cell_type": "code",
   "execution_count": 38,
   "id": "short-animation",
   "metadata": {},
   "outputs": [],
   "source": [
    "import os"
   ]
  },
  {
   "cell_type": "code",
   "execution_count": 39,
   "id": "changed-georgia",
   "metadata": {},
   "outputs": [],
   "source": [
    "data_file = \"\"\"\n",
    "classes=5\n",
    "train=data/oresund_train.txt\n",
    "valid=data/oresund_valid.txt\n",
    "names=data/oresund.names\n",
    "\"\"\"\n",
    "\n",
    "with open(\"data/oresundsbron.data\", 'w') as f:\n",
    "    f.write(data_file)"
   ]
  },
  {
   "cell_type": "code",
   "execution_count": 40,
   "id": "interesting-liabilities",
   "metadata": {},
   "outputs": [],
   "source": [
    "with open('data/oresund_train.txt', 'w') as f:\n",
    "    for filename in os.listdir(PATH_TO_TRAIN):\n",
    "        img_path = os.path.join(PATH_TO_TRAIN, filename)\n",
    "    \n",
    "        assert os.path.isfile(img_path)\n",
    "        f.write(img_path + '\\n')\n",
    "\n",
    "with open('data/oresund_valid.txt', 'w') as f:\n",
    "    for filename in os.listdir(PATH_TO_VALID):\n",
    "        img_path = os.path.join(PATH_TO_VALID, filename)\n",
    "    \n",
    "        assert os.path.isfile(img_path)\n",
    "        f.write(img_path + '\\n')"
   ]
  },
  {
   "cell_type": "code",
   "execution_count": 1,
   "id": "cognitive-zimbabwe",
   "metadata": {},
   "outputs": [],
   "source": [
    "classes = [\n",
    "    \"Class_1\",\n",
    "    \"Class_2\",\n",
    "    \"Class_3\",\n",
    "    \"Class_4\",\n",
    "    \"Class_5_6\"\n",
    "]\n",
    "\n",
    "with open('data/oresund.names', 'w') as f:\n",
    "    for name in classes:\n",
    "        f.write(name + '\\n')"
   ]
  },
  {
   "cell_type": "markdown",
   "id": "existing-domestic",
   "metadata": {},
   "source": [
    "## Configure yolov3.cfg to match number of classes\n",
    "\n",
    "For each ```[yolo]``` layer,\n",
    "- Change ```classes=80``` to ```classes=num_classes```\n",
    "- In the ```[convolutional]``` layer right before, change ```filters=255``` to ```filters=(5+num_classes)*3```\n",
    "\n",
    "e.g.\n",
    "classes=num_classes"
   ]
  },
  {
   "cell_type": "markdown",
   "id": "italic-offer",
   "metadata": {},
   "source": [
    "# Start training\n",
    "\n",
    "Run the following command in the terminal to start training\n",
    "\n",
    "**NOTE:**\n",
    "You may need to manually download the weights 'yolov3.weights' and place it in the 'yolov3/weights' directory. Find the download link in the output logs from the cell."
   ]
  },
  {
   "cell_type": "code",
   "execution_count": 58,
   "id": "hydraulic-newton",
   "metadata": {},
   "outputs": [
    {
     "name": "stdout",
     "output_type": "stream",
     "text": [
      "^C\n"
     ]
    }
   ],
   "source": [
    "# python train.py --data data/oresundsbron.data --weight weights/yolov3.weights --cfg cfg/yolov3.cfg --batch-size 4"
   ]
  },
  {
   "cell_type": "markdown",
   "id": "outer-tactics",
   "metadata": {},
   "source": [
    "# Installing Apex (speed up training 2x)\n",
    "\n",
    "1. First make sure you are in the same conda environment as your project (e.g. $ conda activate \\<environment_name\\>)\n",
    "2. git clone https://github.com/NVIDIA/apex\n",
    "3. cd apex\n",
    "4. pip install -v --no-cache-dir ."
   ]
  },
  {
   "cell_type": "code",
   "execution_count": null,
   "id": "technical-allah",
   "metadata": {},
   "outputs": [],
   "source": []
  }
 ],
 "metadata": {
  "kernelspec": {
   "display_name": "Python 3",
   "language": "python",
   "name": "python3"
  },
  "language_info": {
   "codemirror_mode": {
    "name": "ipython",
    "version": 3
   },
   "file_extension": ".py",
   "mimetype": "text/x-python",
   "name": "python",
   "nbconvert_exporter": "python",
   "pygments_lexer": "ipython3",
   "version": "3.8.8"
  }
 },
 "nbformat": 4,
 "nbformat_minor": 5
}
